{
  "nbformat": 4,
  "nbformat_minor": 0,
  "metadata": {
    "colab": {
      "provenance": [],
      "authorship_tag": "ABX9TyPI8q8dvKBRTF+UlLBZcPeW"
    },
    "kernelspec": {
      "name": "python3",
      "display_name": "Python 3"
    },
    "language_info": {
      "name": "python"
    }
  },
  "cells": [
    {
      "cell_type": "code",
      "source": [
        "!pip install ecdsa pycryptodome bip39 eth_utils eth_account"
      ],
      "metadata": {
        "id": "JqblEgCRo2z4"
      },
      "execution_count": null,
      "outputs": []
    },
    {
      "cell_type": "code",
      "execution_count": 10,
      "metadata": {
        "colab": {
          "base_uri": "https://localhost:8080/"
        },
        "id": "JpjSp80mo0A9",
        "outputId": "f73251b1-8ea6-4b16-952d-6f539079da55"
      },
      "outputs": [
        {
          "output_type": "stream",
          "name": "stdout",
          "text": [
            "Private key: f2bcc4d11e5780133ec906e40df36675a10799d89c43e8a423d5b6ed17d8ad45\n",
            "Mnemonic phrase: verify tower crowd device job another will camp tomato hurdle sunset twice away smooth give mask trim canal voice horse sphere unable relax remain\n",
            "Address: 0x79c175a0f7ec95a32e43255594a1dd2a7756cea3\n"
          ]
        }
      ],
      "source": [
        "import ecdsa\n",
        "import bip39\n",
        "from eth_utils import keccak, hexstr_if_str\n",
        "from eth_account import Account\n",
        "\n",
        "# Generate private key\n",
        "priv = ecdsa.SigningKey.generate(curve=ecdsa.SECP256k1)\n",
        "private_key = priv.to_string().hex()\n",
        "\n",
        "# Generate mnemonic\n",
        "mnemo = bip39.encode_bytes(priv.to_string())\n",
        "\n",
        "# Generate address\n",
        "public_key = priv.get_verifying_key().to_string()\n",
        "addr = keccak(public_key)[12:].hex()\n",
        "address = \"0x\" + addr\n",
        "\n",
        "print(\"Private key:\", private_key)\n",
        "print(\"Mnemonic phrase:\", mnemo)\n",
        "print(\"Address:\", address)"
      ]
    }
  ]
}