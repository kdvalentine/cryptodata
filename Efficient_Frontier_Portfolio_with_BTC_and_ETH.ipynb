{
  "nbformat": 4,
  "nbformat_minor": 0,
  "metadata": {
    "colab": {
      "name": "Efficient Frontier Portfolio with BTC and ETH.ipynb",
      "provenance": [],
      "authorship_tag": "ABX9TyO03yykCMzgbFsGZEh5c1qX"
    },
    "kernelspec": {
      "name": "python3",
      "display_name": "Python 3"
    },
    "language_info": {
      "name": "python"
    }
  },
  "cells": [
    {
      "cell_type": "code",
      "metadata": {
        "colab": {
          "base_uri": "https://localhost:8080/"
        },
        "id": "fh9ww3lHYJGj",
        "outputId": "186cecc6-14c0-4371-e314-d4ef6374e5b2"
      },
      "source": [
        "!pip install yfinance\n",
        "import numpy as np\n",
        "import pandas as pd\n",
        "#used to grab the stock prices, with yahoo\n",
        "#import pandas_datareader as web #pause use until yahoo issue is fixed\n",
        "from pandas_datareader import data as web #for workaround until yahoo issue is fixed\n",
        "import yfinance as yfin #for workaround until yahoo issue is fixed\n",
        "yfin.pdr_override() #for workaround until yahoo issue is fixed\n",
        "from datetime import datetime, date, timedelta\n",
        "#to visualize the results\n",
        "import matplotlib.pyplot as plt\n",
        "import seaborn as sns"
      ],
      "execution_count": 8,
      "outputs": [
        {
          "output_type": "stream",
          "text": [
            "Requirement already satisfied: yfinance in /usr/local/lib/python3.7/dist-packages (0.1.63)\n",
            "Requirement already satisfied: multitasking>=0.0.7 in /usr/local/lib/python3.7/dist-packages (from yfinance) (0.0.9)\n",
            "Requirement already satisfied: requests>=2.20 in /usr/local/lib/python3.7/dist-packages (from yfinance) (2.23.0)\n",
            "Requirement already satisfied: lxml>=4.5.1 in /usr/local/lib/python3.7/dist-packages (from yfinance) (4.6.3)\n",
            "Requirement already satisfied: pandas>=0.24 in /usr/local/lib/python3.7/dist-packages (from yfinance) (1.1.5)\n",
            "Requirement already satisfied: numpy>=1.15 in /usr/local/lib/python3.7/dist-packages (from yfinance) (1.19.5)\n",
            "Requirement already satisfied: chardet<4,>=3.0.2 in /usr/local/lib/python3.7/dist-packages (from requests>=2.20->yfinance) (3.0.4)\n",
            "Requirement already satisfied: certifi>=2017.4.17 in /usr/local/lib/python3.7/dist-packages (from requests>=2.20->yfinance) (2021.5.30)\n",
            "Requirement already satisfied: urllib3!=1.25.0,!=1.25.1,<1.26,>=1.21.1 in /usr/local/lib/python3.7/dist-packages (from requests>=2.20->yfinance) (1.24.3)\n",
            "Requirement already satisfied: idna<3,>=2.5 in /usr/local/lib/python3.7/dist-packages (from requests>=2.20->yfinance) (2.10)\n",
            "Requirement already satisfied: pytz>=2017.2 in /usr/local/lib/python3.7/dist-packages (from pandas>=0.24->yfinance) (2018.9)\n",
            "Requirement already satisfied: python-dateutil>=2.7.3 in /usr/local/lib/python3.7/dist-packages (from pandas>=0.24->yfinance) (2.8.1)\n",
            "Requirement already satisfied: six>=1.5 in /usr/local/lib/python3.7/dist-packages (from python-dateutil>=2.7.3->pandas>=0.24->yfinance) (1.15.0)\n"
          ],
          "name": "stdout"
        }
      ]
    },
    {
      "cell_type": "code",
      "metadata": {
        "colab": {
          "base_uri": "https://localhost:8080/",
          "height": 35
        },
        "id": "tSAGe3FHaDkf",
        "outputId": "bd2e3f97-68f5-4ae6-992b-b8e259fcbf2a"
      },
      "source": [
        "#select start date for correlation window as well as list of tickers\n",
        "\n",
        "now = date.today() - timedelta(days=1)\n",
        "ttm = date.today() - timedelta(days=365)\n",
        "now.strftime('%Y-%m-%d')\n",
        "ttm.strftime('%Y-%m-%d')"
      ],
      "execution_count": 9,
      "outputs": [
        {
          "output_type": "execute_result",
          "data": {
            "application/vnd.google.colaboratory.intrinsic+json": {
              "type": "string"
            },
            "text/plain": [
              "'2020-07-12'"
            ]
          },
          "metadata": {
            "tags": []
          },
          "execution_count": 9
        }
      ]
    },
    {
      "cell_type": "code",
      "metadata": {
        "colab": {
          "base_uri": "https://localhost:8080/"
        },
        "id": "9U_WMJTZYPnB",
        "outputId": "1c7599ba-9719-4e2e-ca8b-690204d4b6e6"
      },
      "source": [
        "#select list of tickers from Yahoo Finance\n",
        "\n",
        "symbols_list = ['BTC-USD', 'ETH-USD', 'PSP', '^GSPC', '^IXIC', 'IEF', 'DIA', 'GC=F', 'CL=F']\n",
        "#array to store prices\n",
        "symbols=[]\n",
        "\n",
        "#pull price for each symbol in list defined above\n",
        "for ticker in symbols_list: \n",
        "    #r = web.DataReader(ticker, 'yahoo', start) #pause use until yahoo issue is fixed\n",
        "    r = web.get_data_yahoo(ticker, start=ttm, end=now)\n",
        "    # add a symbol column\n",
        "    r['Symbol'] = ticker \n",
        "    symbols.append(r)\n",
        "\n",
        "# concatenate into df\n",
        "df = pd.concat(symbols)\n",
        "df = df[df.index.dayofweek < 5]\n",
        "df = df.reset_index()\n",
        "df = df[['Date', 'Close', 'Symbol']]\n",
        "df = df.set_index('Date')\n",
        "df['Symbol'] = df['Symbol'].replace({'BTC-USD': 'Bitcoin', 'ETH-USD': 'Ethereum', 'PSP': 'Private Equity', \n",
        "                                     '^GSPC': 'S&P 500', '^IXIC': 'Nasdaq', 'IEF': '7-10 Year Treasury Bond', \n",
        "                                     'DIA': 'Dow Jones', 'GC=F': 'Gold', 'CL=F': 'Oil'})\n",
        "\n",
        "df_pivot = df.pivot(columns='Symbol', values='Close')\n",
        "df_pivot = df_pivot.dropna()"
      ],
      "execution_count": 11,
      "outputs": [
        {
          "output_type": "stream",
          "text": [
            "[*********************100%***********************]  1 of 1 completed\n",
            "[*********************100%***********************]  1 of 1 completed\n",
            "[*********************100%***********************]  1 of 1 completed\n",
            "[*********************100%***********************]  1 of 1 completed\n",
            "[*********************100%***********************]  1 of 1 completed\n",
            "[*********************100%***********************]  1 of 1 completed\n",
            "[*********************100%***********************]  1 of 1 completed\n",
            "[*********************100%***********************]  1 of 1 completed\n",
            "[*********************100%***********************]  1 of 1 completed\n"
          ],
          "name": "stdout"
        }
      ]
    },
    {
      "cell_type": "code",
      "metadata": {
        "id": "jatEr1P_a36T"
      },
      "source": [
        "# calculate daily and annual returns of the stocks\n",
        "returns_daily = df_pivot.pct_change()\n",
        "returns_annual = returns_daily.mean() * 250\n",
        "returns_std_dev = returns_annual.std()\n",
        "cov_daily = returns_daily.cov()\n",
        "cov_annual = cov_daily * 250\n",
        "\n",
        "# empty lists to store returns, volatility and weights of imiginary portfolios\n",
        "port_returns = []\n",
        "port_volatility = []\n",
        "stock_weights = []\n",
        "\n",
        "# set the number of combinations for imaginary portfolios\n",
        "num_assets = len(symbols_list)\n",
        "num_portfolios = 50000\n",
        "\n",
        "# populate the empty lists with each portfolios returns,risk and weights\n",
        "for single_portfolio in range(num_portfolios):\n",
        "    weights = np.random.random(num_assets)\n",
        "    weights /= np.sum(weights)\n",
        "    returns = np.dot(weights, returns_annual)\n",
        "    volatility = np.sqrt(np.dot(weights.T, np.dot(cov_annual, weights)))\n",
        "    port_returns.append(returns)\n",
        "    port_volatility.append(volatility)\n",
        "    stock_weights.append(weights)\n",
        "\n",
        "# a dictionary for Returns and Risk values of each portfolio\n",
        "portfolio = {'Returns': port_returns,\n",
        "             'Volatility': port_volatility}\n",
        "\n",
        "# extend original dictionary to accomodate each ticker and weight in the portfolio\n",
        "for counter,symbol in enumerate(symbols_list):\n",
        "    portfolio[symbol+' Weight'] = [Weight[counter] for Weight in stock_weights]\n",
        "\n",
        "# make a nice dataframe of the extended dictionary\n",
        "df = pd.DataFrame(portfolio)\n",
        "\n",
        "# get better labels for desired arrangement of columns\n",
        "column_order = ['Returns', 'Volatility'] + [stock+' Weight' for stock in symbols_list]\n",
        "\n",
        "# reorder dataframe columns\n",
        "df = df[column_order]"
      ],
      "execution_count": 12,
      "outputs": []
    },
    {
      "cell_type": "code",
      "metadata": {
        "colab": {
          "base_uri": "https://localhost:8080/",
          "height": 512
        },
        "id": "e8_wRSawarNR",
        "outputId": "1ff1f470-86e3-4271-9d9a-c9ea685301a4"
      },
      "source": [
        "# plot the efficient frontier with a scatter plot\n",
        "plt.style.use('seaborn')\n",
        "df.plot.scatter(x='Volatility', y='Returns', figsize=(10, 8), grid=True)\n",
        "plt.xlabel('Volatility (Std. Deviation)')\n",
        "plt.ylabel('Expected Returns')\n",
        "plt.title('Efficient Frontier')\n",
        "plt.show()"
      ],
      "execution_count": 13,
      "outputs": [
        {
          "output_type": "display_data",
          "data": {
            "image/png": "[encoded data removed]",
            "text/plain": [
              "<Figure size 720x576 with 1 Axes>"
            ]
          },
          "metadata": {
            "tags": []
          }
        }
      ]
    }
  ]
}